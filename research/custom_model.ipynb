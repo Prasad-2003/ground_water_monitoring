{
 "cells": [
  {
   "cell_type": "code",
   "execution_count": 1,
   "metadata": {},
   "outputs": [
    {
     "name": "stdout",
     "output_type": "stream",
     "text": [
      "Note: you may need to restart the kernel to use updated packages.\n"
     ]
    }
   ],
   "source": [
    "# %pip install opencv-python\n",
    "%pip install -U tensorflow-addons -q"
   ]
  },
  {
   "cell_type": "code",
   "execution_count": 2,
   "metadata": {},
   "outputs": [
    {
     "data": {
      "text/plain": [
       "{'status': 'ok', 'restart': True}"
      ]
     },
     "execution_count": 2,
     "metadata": {},
     "output_type": "execute_result"
    }
   ],
   "source": [
    "import IPython\n",
    "\n",
    "app = IPython.Application.instance()\n",
    "app.kernel.do_shutdown(True)"
   ]
  },
  {
   "cell_type": "code",
   "execution_count": 2,
   "metadata": {},
   "outputs": [],
   "source": [
    "import numpy as np \n",
    "import pandas as pd "
   ]
  },
  {
   "cell_type": "code",
   "execution_count": 1,
   "metadata": {},
   "outputs": [],
   "source": [
    "import tensorflow as tf\n",
    "from tensorflow import keras\n",
    "from tensorflow.keras import backend as k\n",
    "\n",
    "tf.keras.backend.clear_session()\n",
    "k.clear_session()"
   ]
  },
  {
   "cell_type": "code",
   "execution_count": 3,
   "metadata": {},
   "outputs": [],
   "source": [
    "# Load the TensorBoard notebook extension\n",
    "%load_ext tensorboard"
   ]
  },
  {
   "cell_type": "code",
   "execution_count": 4,
   "metadata": {},
   "outputs": [],
   "source": [
    "feature_desc = {\n",
    "    'VV': tf.io.FixedLenFeature([], tf.string),\n",
    "    'VV_1': tf.io.FixedLenFeature([], tf.string),\n",
    "    'VH': tf.io.FixedLenFeature([], tf.string),\n",
    "    'VH_1': tf.io.FixedLenFeature([], tf.string),\n",
    "    'lwe_thickness_jpl': tf.io.FixedLenFeature([], tf.string),\n",
    "    'label': tf.io.FixedLenFeature([], tf.float32)\n",
    "}"
   ]
  },
  {
   "cell_type": "code",
   "execution_count": 10,
   "metadata": {},
   "outputs": [],
   "source": [
    "def parse_tfrecord(example):\n",
    "    \n",
    "    example = tf.io.parse_single_example(example, feature_desc)\n",
    "    bands = ['VV', 'VV_1', 'VH', 'VH_1', 'lwe_thickness_jpl']\n",
    "    decoded_bands = [tf.io.decode_raw(example[band], tf.float32) for band in bands]\n",
    "    reshaped_bands = [tf.reshape(band, (256, 256)) for band in decoded_bands]\n",
    "    \n",
    "    # Cast the reshaped bands to float32 if needed\n",
    "    reshaped_bands = [tf.cast(band, tf.float32) for band in reshaped_bands]\n",
    "    \n",
    "    bands_normalized = [tf.divide(band, 255.0) for band in reshaped_bands]\n",
    "    \n",
    "    # Use tf.stack instead of tf.concat\n",
    "    image = tf.stack(bands_normalized, axis=-1)\n",
    "\n",
    "    label = example['label']\n",
    "    return image, label\n",
    "\n",
    "def load_dataset(pattern):\n",
    "    \n",
    "    glob = tf.io.gfile.glob(pattern)\n",
    "    dataset = tf.data.TFRecordDataset(glob)\n",
    "    dataset = dataset.map(parse_tfrecord)\n",
    "    \n",
    "    return dataset\n",
    "\n",
    "def get_dataset():\n",
    "    \n",
    "    glob = 'E:\\Ground-Water-Monitoring\\Data\\_tf_record_files\\grace_sentinel' + '*'\n",
    "    dataset = load_dataset(glob)\n",
    "    \n",
    "    return dataset"
   ]
  },
  {
   "cell_type": "code",
   "execution_count": null,
   "metadata": {},
   "outputs": [],
   "source": [
    "training = get_dataset()"
   ]
  },
  {
   "cell_type": "code",
   "execution_count": null,
   "metadata": {},
   "outputs": [],
   "source": [
    "train_data = training.take(20000).batch(32).repeat(30)\n",
    "validation_data = training.skip(20000).batch(1).repeat(30)"
   ]
  },
  {
   "cell_type": "code",
   "execution_count": null,
   "metadata": {},
   "outputs": [],
   "source": [
    "next(iter(train_data))"
   ]
  },
  {
   "cell_type": "code",
   "execution_count": 6,
   "metadata": {},
   "outputs": [
    {
     "name": "stderr",
     "output_type": "stream",
     "text": [
      "c:\\Users\\hp\\.conda\\envs\\textS\\lib\\site-packages\\tqdm\\auto.py:21: TqdmWarning: IProgress not found. Please update jupyter and ipywidgets. See https://ipywidgets.readthedocs.io/en/stable/user_install.html\n",
      "  from .autonotebook import tqdm as notebook_tqdm\n",
      "c:\\Users\\hp\\.conda\\envs\\textS\\lib\\site-packages\\tensorflow_addons\\utils\\tfa_eol_msg.py:23: UserWarning: \n",
      "\n",
      "TensorFlow Addons (TFA) has ended development and introduction of new features.\n",
      "TFA has entered a minimal maintenance and release mode until a planned end of life in May 2024.\n",
      "Please modify downstream libraries to take dependencies from other repositories in our TensorFlow community (e.g. Keras, Keras-CV, and Keras-NLP). \n",
      "\n",
      "For more information see: https://github.com/tensorflow/addons/issues/2807 \n",
      "\n",
      "  warnings.warn(\n"
     ]
    }
   ],
   "source": [
    "from transformers import ViTFeatureExtractor, TFViTModel\n",
    "from datasets import load_dataset\n",
    "from tensorflow.keras import layers\n",
    "from tensorflow.keras import losses\n",
    "\n",
    "import tensorflow as tf\n",
    "import datetime\n",
    "import tensorflow_addons as tfa\n",
    "\n",
    "def mlp(x, hidden_units, dropout_rate):\n",
    "    \n",
    "    for units in hidden_units:\n",
    "        x = layers.Dense(units, activation=tf.nn.gelu) (x)\n",
    "        x = layers.Dropout(dropout_rate)(x)\n",
    "    return x   "
   ]
  },
  {
   "cell_type": "code",
   "execution_count": 7,
   "metadata": {},
   "outputs": [],
   "source": [
    "class Patches(layers.Layer):\n",
    "    \n",
    "    def __init__(self, patch_size):\n",
    "        super(Patches, self).__init__()\n",
    "        self.patch_size = patch_size\n",
    "        \n",
    "    def call(self, images):\n",
    "        batch_size = tf.shape(images)[0]\n",
    "        patches = tf.image.extract_patches(\n",
    "            images = images,\n",
    "            sizes = [1, self.patch_size, self.patch_size, 1],\n",
    "            strides = [1, self.patch_size, self.patch_size, 1],\n",
    "            rates = [1, 1, 1, 1],\n",
    "            padding = 'VALID'\n",
    "        )\n",
    "        \n",
    "        patch_dims = patches.shape[-1]\n",
    "        patches = tf.reshape(patches, [batch_size, -1, patch_dims])\n",
    "        \n",
    "        return patches"
   ]
  },
  {
   "cell_type": "code",
   "execution_count": 8,
   "metadata": {},
   "outputs": [],
   "source": [
    "class PatchEncoder(layers.Layer):\n",
    "    def __init__(self, n_patches, projection_dim):\n",
    "        super(PatchEncoder, self).__init__()\n",
    "        self.n_patches = n_patches\n",
    "        self.projection = layers.Dense(units=projection_dim)\n",
    "        self.position_encoding = layers.Embedding(\n",
    "            input_dim=n_patches, output_dim=projection_dim\n",
    "        )\n",
    "        \n",
    "    def call(self, patch):\n",
    "        positions = tf.range(start=0, limit=self.n_patches, delta=1)\n",
    "        encoded = self.projection(patch) + self.position_encoding(positions)\n",
    "        \n",
    "        return encoded"
   ]
  },
  {
   "cell_type": "code",
   "execution_count": 9,
   "metadata": {},
   "outputs": [],
   "source": [
    "def create_vit_regression():\n",
    "    \n",
    "    inputs = layers.Input(shape=input_shape)\n",
    "    \n",
    "    patches = Patches(patch_size)(inputs)\n",
    "    encoded_patches = PatchEncoder(n_patches, projection_dim)(patches)\n",
    "    \n",
    "    for ind in range(transformer_layers):\n",
    "        \n",
    "        x1 = layers.LayerNormalization(epsilon=1e-6)(encoded_patches)\n",
    "        \n",
    "        attention_output = layers.MultiHeadAttention(\n",
    "            num_heads=n_heads, key_dim=projection_dim, dropout=0.1\n",
    "        )(x1, x1)\n",
    "        x2 = layers.Add()([attention_output, encoded_patches])\n",
    "        \n",
    "        x3 = layers.LayerNormalization(epsilon=1e-6)(x2)\n",
    "        \n",
    "        x3 = mlp(x3, hidden_units=transformer_units, dropout_rate=0.1)\n",
    "        encoded_patches = layers.Add()([x3, x2])\n",
    "        \n",
    "    representation = layers.LayerNormalization(epsilon=1e-6)(encoded_patches)\n",
    "    representation = layers.Flatten()(representation)\n",
    "    representation = layers.Dropout(0.5)(representation)\n",
    "    \n",
    "    features = mlp(representation, hidden_units=mlp_head_units, dropout_rate=0.5)\n",
    "    \n",
    "    ground_water = layers.Dense(1)(features)\n",
    "    model = keras.Model(inputs=inputs, outputs=ground_water)\n",
    "    \n",
    "    return model"
   ]
  },
  {
   "cell_type": "code",
   "execution_count": null,
   "metadata": {},
   "outputs": [],
   "source": [
    "# configuring the hyper-parameters.\n",
    "\n",
    "learning_rate = 0.001\n",
    "weight_decay = 0.0001\n",
    "batch_size = 32\n",
    "epochs = 100\n",
    "image_size = 256\n",
    "patch_size = 16\n",
    "n_patches = (image_size // patch_size) ** 2\n",
    "projection_dim = 64\n",
    "n_heads = 4\n",
    "input_shape = (256, 256, 4)\n",
    "transformer_units = [\n",
    "    projection_dim * 2,\n",
    "    projection_dim,\n",
    "]\n",
    "\n",
    "transformer_layers = 8\n",
    "mlp_head_units = [2048, 1024] # size of the dense layers of the final classifier.\n",
    "\n",
    "def rmse(y_true, y_pred):\n",
    "    return tf.sqrt(tf.reduce_mean(tf.square(y_true - y_pred)))\n",
    "\n",
    "def mae(y_true, y_pred):\n",
    "    return tf.reduce_mean(tf.abs(y_true - y_pred))\n",
    "\n",
    "def train_model(model):\n",
    "    \n",
    "    optimizer = tfa.optimizers.AdamW(\n",
    "        learning_rate = learning_rate, weight_decay = weight_decay\n",
    "    )\n",
    "    \n",
    "    model.compile(\n",
    "        optimizer=optimizer,\n",
    "        loss='mse',\n",
    "        metrics=[\n",
    "            rmse,\n",
    "            mae\n",
    "        ]\n",
    "    )\n",
    "    \n",
    "    checkpoint_path = \"checkpoint/ViT/\"\n",
    "    checkpoint_callback = keras.callbacks.ModelCheckpoint(\n",
    "        checkpoint_path,\n",
    "        monitor='val_rmse',\n",
    "        save_best_only=True,\n",
    "        save_weights_only=True\n",
    "    )\n",
    "    model = get_model()\n",
    "\n",
    "    log_dir = \"logs/fit/ViT-\" + datetime.datetime.now().strftime(\"%Y%m%d-%H%M%S\")\n",
    "    tensorboard_callback = tf.keras.callbacks.TensorBoard(log_dir=log_dir, histogram_freq=1, update_freq=100)\n",
    "\n",
    "    \n",
    "    history = model.fit(\n",
    "        x=train_data,\n",
    "        epochs=30,\n",
    "        steps_per_epoch=20000/32,\n",
    "        validation_data=validation_data,\n",
    "        validation_steps=4652,\n",
    "        callbacks=[tensorboard_callback, checkpoint_callback]\n",
    "        )\n",
    "    \n",
    "    return history\n",
    "\n",
    "vit_regressor = create_vit_regression()\n",
    "history = train_model(vit_regressor)"
   ]
  }
 ],
 "metadata": {
  "kernelspec": {
   "display_name": "textS",
   "language": "python",
   "name": "python3"
  },
  "language_info": {
   "codemirror_mode": {
    "name": "ipython",
    "version": 3
   },
   "file_extension": ".py",
   "mimetype": "text/x-python",
   "name": "python",
   "nbconvert_exporter": "python",
   "pygments_lexer": "ipython3",
   "version": "3.8.16"
  },
  "orig_nbformat": 4
 },
 "nbformat": 4,
 "nbformat_minor": 2
}
